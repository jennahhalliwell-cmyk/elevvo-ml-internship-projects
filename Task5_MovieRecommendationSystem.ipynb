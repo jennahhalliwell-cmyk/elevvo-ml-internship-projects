{
  "nbformat": 4,
  "nbformat_minor": 0,
  "metadata": {
    "colab": {
      "provenance": []
    },
    "kernelspec": {
      "name": "python3",
      "display_name": "Python 3"
    },
    "language_info": {
      "name": "python"
    }
  },
  "cells": [
    {
      "cell_type": "markdown",
      "source": [
        "### Task 5 – Movie Recommendation System\n",
        "**Objective:** Build a simple recommendation system that suggests movies to users based on similar viewing patterns.\n",
        "\n",
        "**Steps:**\n",
        "- Loaded the MovieLens dataset (movie titles and user ratings).\n",
        "- Merged datasets to create a user–movie rating table.\n",
        "- Computed cosine similarity between users to identify similar tastes.\n",
        "- Recommended the top-rated movies from similar users.\n",
        "\n",
        "**Results:**\n",
        "- Example recommendations for a user include:\n",
        "  - *Jagten (2012)*\n",
        "  - *Victoria & Abdul (2017)*\n",
        "  - *Avengers: Endgame (2019)*\n",
        "  - *Sixteen Candles (1984)*\n",
        "  - *Oculus (2013)*\n",
        "- The system successfully recommends movies based on collaborative filtering.\n",
        "\n",
        "**Conclusion:**  \n",
        "The collaborative filtering model effectively personalizes movie recommendations by finding users with similar preferences.  \n",
        "This demonstrates how recommendation systems can enhance engagement on platforms like Netflix or Prime Video.\n"
      ],
      "metadata": {
        "id": "n7VhKz_kzo5U"
      }
    },
    {
      "cell_type": "code",
      "execution_count": 2,
      "metadata": {
        "colab": {
          "base_uri": "https://localhost:8080/"
        },
        "id": "aJ1LTXEvw_Mm",
        "outputId": "e09d2f65-c1a9-4d74-fb02-ef99ba100d20"
      },
      "outputs": [
        {
          "output_type": "stream",
          "name": "stdout",
          "text": [
            "Datasets Loaded Successfully!\n",
            "Movies: (38018, 3)\n",
            "Ratings: (921398, 4)\n",
            "   userId  movieId  rating   timestamp\n",
            "0       1   114508       8  1381006850\n",
            "1       2   499549       9  1376753198\n",
            "2       2  1305591       8  1376742507\n",
            "3       2  1428538       1  1371307089\n",
            "4       3    75314       1  1595468524\n",
            "\n",
            "Top 5 movie recommendations for User 39:\n",
            "title\n",
            "Jagten (2012)                  1.6\n",
            "Victoria &amp; Abdul (2017)    1.6\n",
            "Avengers: Endgame (2019)       1.4\n",
            "Sixteen Candles (1984)         1.4\n",
            "Oculus (2013)                  1.4\n",
            "dtype: float64\n"
          ]
        }
      ],
      "source": [
        "# =============================\n",
        "# TASK 5: Movie Recommendation System\n",
        "# =============================\n",
        "# Author: Jenna Halliwell\n",
        "# Internship: Elevvo – Machine Learning Track\n",
        "# Date: October 2025\n",
        "\n",
        "# --- Import Libraries ---\n",
        "import pandas as pd\n",
        "from sklearn.metrics.pairwise import cosine_similarity\n",
        "\n",
        "# --- Step 1: Load dataset ---\n",
        "# Using MovieLens sample dataset\n",
        "url = \"https://raw.githubusercontent.com/sidooms/MovieTweetings/master/latest/movies.dat\"\n",
        "movies = pd.read_csv(url, sep='::', engine='python', names=['movieId','title','genres'])\n",
        "\n",
        "url2 = \"https://raw.githubusercontent.com/sidooms/MovieTweetings/master/latest/ratings.dat\"\n",
        "ratings = pd.read_csv(url2, sep='::', engine='python', names=['userId','movieId','rating','timestamp'])\n",
        "\n",
        "print(\"Datasets Loaded Successfully!\")\n",
        "print(\"Movies:\", movies.shape)\n",
        "print(\"Ratings:\", ratings.shape)\n",
        "print(ratings.head())\n",
        "\n",
        "# --- Step 2: Create User-Item Matrix ---\n",
        "data = pd.merge(ratings.sample(5000, random_state=42), movies, on='movieId')\n",
        "user_movie_matrix = data.pivot_table(index='userId', columns='title', values='rating').fillna(0)\n",
        "\n",
        "# --- Step 3: Compute similarity ---\n",
        "similarity_matrix = cosine_similarity(user_movie_matrix)\n",
        "similarity_df = pd.DataFrame(similarity_matrix, index=user_movie_matrix.index, columns=user_movie_matrix.index)\n",
        "\n",
        "# --- Step 4: Recommendation function ---\n",
        "def recommend_movies(user_id, n=5):\n",
        "    similar_users = similarity_df[user_id].sort_values(ascending=False)[1:n+1].index\n",
        "    similar_users_ratings = user_movie_matrix.loc[similar_users]\n",
        "    mean_ratings = similar_users_ratings.mean().sort_values(ascending=False)\n",
        "    return mean_ratings.head(n)\n",
        "\n",
        "# --- Step 5: Example recommendation ---\n",
        "user_id = user_movie_matrix.index[0]\n",
        "print(f\"\\nTop 5 movie recommendations for User {user_id}:\")\n",
        "print(recommend_movies(user_id))\n"
      ]
    }
  ]
}