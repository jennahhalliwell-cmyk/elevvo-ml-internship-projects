{
  "nbformat": 4,
  "nbformat_minor": 0,
  "metadata": {
    "colab": {
      "provenance": []
    },
    "kernelspec": {
      "name": "python3",
      "display_name": "Python 3"
    },
    "language_info": {
      "name": "python"
    }
  },
  "cells": [
    {
      "cell_type": "markdown",
      "source": [
        "### Task 4 – Loan Approval Prediction\n",
        "**Objective:** Predict whether a loan application will be approved based on applicant details.\n",
        "\n",
        "**Steps:**\n",
        "- Loaded the loan dataset from an open-source repository.\n",
        "- Cleaned missing values and encoded categorical data.\n",
        "- Split the dataset into training and test sets (80/20).\n",
        "- Trained a Random Forest Classifier using Scikit-learn.\n",
        "- Evaluated performance using accuracy and confusion matrix.\n",
        "\n",
        "**Results:**\n",
        "- Model Accuracy: 79%\n",
        "- Precision (Approved): 0.79\n",
        "- Recall (Approved): 0.92\n",
        "- F1-Score (Approved): 0.85\n",
        "- The confusion matrix shows most approved loans were correctly classified.\n",
        "\n",
        "**Conclusion:**\n",
        "The Random Forest model effectively predicts loan approvals using applicant data such as credit history, income, and loan amount.  \n",
        "It performs best at identifying approved loans, making it useful for automating preliminary credit decisions in finance.\n"
      ],
      "metadata": {
        "id": "o1qwHFjDwZWp"
      }
    },
    {
      "cell_type": "code",
      "execution_count": 2,
      "metadata": {
        "colab": {
          "base_uri": "https://localhost:8080/",
          "height": 1000
        },
        "id": "fuz0oaM3vcV2",
        "outputId": "4b0a5a68-aa62-4938-f23a-9f583cac7c3c"
      },
      "outputs": [
        {
          "output_type": "stream",
          "name": "stdout",
          "text": [
            "Dataset Loaded Successfully!\n",
            "   Unnamed: 0   Loan_ID  Gender Married Dependents     Education  \\\n",
            "0           0  LP002305  Female      No          0      Graduate   \n",
            "1           1  LP001715    Male     Yes         3+  Not Graduate   \n",
            "2           2  LP002086  Female     Yes          0      Graduate   \n",
            "3           3  LP001136    Male     Yes          0  Not Graduate   \n",
            "4           4  LP002529    Male     Yes          2      Graduate   \n",
            "\n",
            "  Self_Employed  ApplicantIncome  CoapplicantIncome  LoanAmount  \\\n",
            "0            No             4547                0.0       115.0   \n",
            "1           Yes             5703                0.0       130.0   \n",
            "2            No             4333             2451.0       110.0   \n",
            "3           Yes             4695                0.0        96.0   \n",
            "4            No             6700             1750.0       230.0   \n",
            "\n",
            "   Loan_Amount_Term  Credit_History Property_Area  Loan_Status  \n",
            "0             360.0             1.0     Semiurban            1  \n",
            "1             360.0             1.0         Rural            1  \n",
            "2             360.0             1.0         Urban            0  \n",
            "3               NaN             1.0         Urban            1  \n",
            "4             300.0             1.0     Semiurban            1  \n",
            "\n",
            "Accuracy: 0.79\n",
            "\n",
            "Classification Report:\n",
            "               precision    recall  f1-score   support\n",
            "\n",
            "           0       0.78      0.53      0.63        34\n",
            "           1       0.79      0.92      0.85        65\n",
            "\n",
            "    accuracy                           0.79        99\n",
            "   macro avg       0.79      0.73      0.74        99\n",
            "weighted avg       0.79      0.79      0.78        99\n",
            "\n"
          ]
        },
        {
          "output_type": "display_data",
          "data": {
            "text/plain": [
              "<Figure size 600x400 with 2 Axes>"
            ],
            "image/png": "[encoded data removed]"
          },
          "metadata": {}
        }
      ],
      "source": [
        "# =============================\n",
        "# TASK 4: Loan Approval Prediction\n",
        "# =============================\n",
        "# Author: Jenna Halliwell\n",
        "# Internship: Elevvo – Machine Learning Track\n",
        "# Date: October 2025\n",
        "\n",
        "# --- Import Libraries ---\n",
        "import pandas as pd\n",
        "import matplotlib.pyplot as plt\n",
        "import seaborn as sns\n",
        "from sklearn.model_selection import train_test_split\n",
        "from sklearn.preprocessing import LabelEncoder\n",
        "from sklearn.ensemble import RandomForestClassifier\n",
        "from sklearn.metrics import accuracy_score, confusion_matrix, classification_report\n",
        "\n",
        "# --- Step 1: Load dataset ---\n",
        "url = \"https://raw.githubusercontent.com/dphi-official/Datasets/master/Loan_Data/loan_train.csv\"\n",
        "data = pd.read_csv(url)\n",
        "print(\"Dataset Loaded Successfully!\")\n",
        "print(data.head())\n",
        "\n",
        "# --- Step 2: Handle missing values ---\n",
        "data.fillna({\n",
        "    'Gender': data['Gender'].mode()[0],\n",
        "    'Married': data['Married'].mode()[0],\n",
        "    'Dependents': data['Dependents'].mode()[0],\n",
        "    'Self_Employed': data['Self_Employed'].mode()[0],\n",
        "    'LoanAmount': data['LoanAmount'].median(),\n",
        "    'Loan_Amount_Term': data['Loan_Amount_Term'].mode()[0],\n",
        "    'Credit_History': data['Credit_History'].mode()[0]\n",
        "}, inplace=True)\n",
        "\n",
        "# --- Fix 'Dependents' column ---\n",
        "data['Dependents'] = data['Dependents'].replace('3+', 3).astype(float)\n",
        "\n",
        "# --- Step 3: Encode categorical variables ---\n",
        "le = LabelEncoder()\n",
        "for col in ['Gender','Married','Education','Self_Employed','Property_Area','Loan_Status']:\n",
        "    data[col] = le.fit_transform(data[col])\n",
        "\n",
        "# --- Step 4: Prepare features and target ---\n",
        "X = data.drop(['Loan_ID', 'Loan_Status'], axis=1)\n",
        "y = data['Loan_Status']\n",
        "\n",
        "# --- Step 5: Split data ---\n",
        "X_train, X_test, y_train, y_test = train_test_split(X, y, test_size=0.2, random_state=42)\n",
        "\n",
        "# --- Step 6: Train model ---\n",
        "model = RandomForestClassifier(random_state=42)\n",
        "model.fit(X_train, y_train)\n",
        "\n",
        "# --- Step 7: Evaluate model ---\n",
        "y_pred = model.predict(X_test)\n",
        "acc = accuracy_score(y_test, y_pred)\n",
        "cm = confusion_matrix(y_test, y_pred)\n",
        "\n",
        "print(f\"\\nAccuracy: {acc:.2f}\")\n",
        "print(\"\\nClassification Report:\\n\", classification_report(y_test, y_pred))\n",
        "\n",
        "# --- Step 8: Visualize confusion matrix ---\n",
        "plt.figure(figsize=(6,4))\n",
        "sns.heatmap(cm, annot=True, fmt='d', cmap='Blues')\n",
        "plt.title('Confusion Matrix – Loan Approval Prediction')\n",
        "plt.xlabel('Predicted')\n",
        "plt.ylabel('Actual')\n",
        "plt.show()\n"
      ]
    }
  ]
}